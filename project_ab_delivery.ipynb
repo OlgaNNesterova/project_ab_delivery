{
 "cells": [
  {
   "cell_type": "markdown",
   "metadata": {},
   "source": [
    "#### В приложение по доставке продуктов внедрили умную систему рекомендации товаров – предполагается, что такая система поможет пользователям эффективнее работать с приложением и лучше находить необходимые товары.\n",
    "\n",
    "#### Чтобы проверить эффективность системы рекомендаций, был проведен АБ-тест. В группе 1 оказались пользователи с новой системой рекомендаций, в группе 0 пользователи со старой версией приложения, где нет рекомендации товаров.\n",
    "\n",
    "#### Задача – оценить, смогла ли новая система рекомендаций принести пользу бизнесу и пользователям приложения и дать аналитическое заключение с ответом на вопрос, стоит ли включать новую систему рекомендаций на всех пользователей."
   ]
  },
  {
   "cell_type": "code",
   "execution_count": 1,
   "metadata": {},
   "outputs": [],
   "source": [
    "import pandas as pd\n",
    "import scipy as scipy\n",
    "import requests\n",
    "import scipy.stats as stats\n",
    "from  scipy.stats import chi2_contingency\n",
    "from urllib.parse import urlencode"
   ]
  },
  {
   "cell_type": "code",
   "execution_count": 2,
   "metadata": {},
   "outputs": [],
   "source": [
    "# исходные данные ab_users_data.csv\n",
    "\n",
    "base_url = 'https://cloud-api.yandex.net/v1/disk/public/resources/download?'\n",
    "public_key = 'https://disk.yandex.ru/d/4qY27tJ23G_B1g'\n",
    "final_url = base_url + urlencode(dict(public_key=public_key))\n",
    "response = requests.get(final_url)\n",
    "download_url = response.json()['href']\n",
    "\n",
    "ab_users_data = pd.read_csv(download_url) #исходный датафрэйм"
   ]
  },
  {
   "cell_type": "code",
   "execution_count": 3,
   "metadata": {},
   "outputs": [],
   "source": [
    "# исходные данные ab_orders.csv\n",
    "\n",
    "base_url = 'https://cloud-api.yandex.net/v1/disk/public/resources/download?'\n",
    "public_key = 'https://disk.yandex.ru/d/prdO8FDQx7lzCg'\n",
    "final_url = base_url + urlencode(dict(public_key=public_key))\n",
    "response = requests.get(final_url)\n",
    "download_url = response.json()['href']\n",
    "\n",
    "ab_orders = pd.read_csv(download_url) #исходный датафрэйм"
   ]
  },
  {
   "cell_type": "code",
   "execution_count": 4,
   "metadata": {},
   "outputs": [],
   "source": [
    "# исходные данные ab_products.csv\n",
    "\n",
    "base_url = 'https://cloud-api.yandex.net/v1/disk/public/resources/download?'\n",
    "public_key = 'https://disk.yandex.ru/d/atwrlmB_wu-fHA'\n",
    "final_url = base_url + urlencode(dict(public_key=public_key))\n",
    "response = requests.get(final_url)\n",
    "download_url = response.json()['href']\n",
    "\n",
    "ab_products = pd.read_csv(download_url) #исходный датафрэйм"
   ]
  },
  {
   "cell_type": "code",
   "execution_count": 5,
   "metadata": {},
   "outputs": [
    {
     "data": {
      "text/html": [
       "<div>\n",
       "<style scoped>\n",
       "    .dataframe tbody tr th:only-of-type {\n",
       "        vertical-align: middle;\n",
       "    }\n",
       "\n",
       "    .dataframe tbody tr th {\n",
       "        vertical-align: top;\n",
       "    }\n",
       "\n",
       "    .dataframe thead th {\n",
       "        text-align: right;\n",
       "    }\n",
       "</style>\n",
       "<table border=\"1\" class=\"dataframe\">\n",
       "  <thead>\n",
       "    <tr style=\"text-align: right;\">\n",
       "      <th></th>\n",
       "      <th>user_id</th>\n",
       "      <th>order_id</th>\n",
       "      <th>action</th>\n",
       "      <th>time</th>\n",
       "      <th>date</th>\n",
       "      <th>group</th>\n",
       "    </tr>\n",
       "  </thead>\n",
       "  <tbody>\n",
       "    <tr>\n",
       "      <th>0</th>\n",
       "      <td>964</td>\n",
       "      <td>1255</td>\n",
       "      <td>create_order</td>\n",
       "      <td>2022-08-26 00:00:19.000000</td>\n",
       "      <td>2022-08-26</td>\n",
       "      <td>0</td>\n",
       "    </tr>\n",
       "    <tr>\n",
       "      <th>1</th>\n",
       "      <td>965</td>\n",
       "      <td>1256</td>\n",
       "      <td>create_order</td>\n",
       "      <td>2022-08-26 00:02:21.000000</td>\n",
       "      <td>2022-08-26</td>\n",
       "      <td>1</td>\n",
       "    </tr>\n",
       "    <tr>\n",
       "      <th>2</th>\n",
       "      <td>964</td>\n",
       "      <td>1257</td>\n",
       "      <td>create_order</td>\n",
       "      <td>2022-08-26 00:02:27.000000</td>\n",
       "      <td>2022-08-26</td>\n",
       "      <td>0</td>\n",
       "    </tr>\n",
       "    <tr>\n",
       "      <th>3</th>\n",
       "      <td>966</td>\n",
       "      <td>1258</td>\n",
       "      <td>create_order</td>\n",
       "      <td>2022-08-26 00:02:56.000000</td>\n",
       "      <td>2022-08-26</td>\n",
       "      <td>0</td>\n",
       "    </tr>\n",
       "    <tr>\n",
       "      <th>4</th>\n",
       "      <td>967</td>\n",
       "      <td>1259</td>\n",
       "      <td>create_order</td>\n",
       "      <td>2022-08-26 00:03:37.000000</td>\n",
       "      <td>2022-08-26</td>\n",
       "      <td>1</td>\n",
       "    </tr>\n",
       "  </tbody>\n",
       "</table>\n",
       "</div>"
      ],
      "text/plain": [
       "   user_id  order_id        action                        time        date  \\\n",
       "0      964      1255  create_order  2022-08-26 00:00:19.000000  2022-08-26   \n",
       "1      965      1256  create_order  2022-08-26 00:02:21.000000  2022-08-26   \n",
       "2      964      1257  create_order  2022-08-26 00:02:27.000000  2022-08-26   \n",
       "3      966      1258  create_order  2022-08-26 00:02:56.000000  2022-08-26   \n",
       "4      967      1259  create_order  2022-08-26 00:03:37.000000  2022-08-26   \n",
       "\n",
       "   group  \n",
       "0      0  \n",
       "1      1  \n",
       "2      0  \n",
       "3      0  \n",
       "4      1  "
      ]
     },
     "execution_count": 5,
     "metadata": {},
     "output_type": "execute_result"
    }
   ],
   "source": [
    "ab_users_data.head()"
   ]
  },
  {
   "cell_type": "code",
   "execution_count": 6,
   "metadata": {},
   "outputs": [
    {
     "data": {
      "text/plain": [
       "array(['create_order', 'cancel_order'], dtype=object)"
      ]
     },
     "execution_count": 6,
     "metadata": {},
     "output_type": "execute_result"
    }
   ],
   "source": [
    "ab_users_data.action.unique()"
   ]
  },
  {
   "cell_type": "code",
   "execution_count": 7,
   "metadata": {},
   "outputs": [
    {
     "data": {
      "text/html": [
       "<div>\n",
       "<style scoped>\n",
       "    .dataframe tbody tr th:only-of-type {\n",
       "        vertical-align: middle;\n",
       "    }\n",
       "\n",
       "    .dataframe tbody tr th {\n",
       "        vertical-align: top;\n",
       "    }\n",
       "\n",
       "    .dataframe thead th {\n",
       "        text-align: right;\n",
       "    }\n",
       "</style>\n",
       "<table border=\"1\" class=\"dataframe\">\n",
       "  <thead>\n",
       "    <tr style=\"text-align: right;\">\n",
       "      <th></th>\n",
       "      <th>product_id</th>\n",
       "      <th>name</th>\n",
       "      <th>price</th>\n",
       "    </tr>\n",
       "  </thead>\n",
       "  <tbody>\n",
       "    <tr>\n",
       "      <th>0</th>\n",
       "      <td>1</td>\n",
       "      <td>сахар</td>\n",
       "      <td>150.0</td>\n",
       "    </tr>\n",
       "    <tr>\n",
       "      <th>1</th>\n",
       "      <td>2</td>\n",
       "      <td>чай зеленый в пакетиках</td>\n",
       "      <td>50.0</td>\n",
       "    </tr>\n",
       "    <tr>\n",
       "      <th>2</th>\n",
       "      <td>3</td>\n",
       "      <td>вода негазированная</td>\n",
       "      <td>80.4</td>\n",
       "    </tr>\n",
       "    <tr>\n",
       "      <th>3</th>\n",
       "      <td>4</td>\n",
       "      <td>леденцы</td>\n",
       "      <td>45.5</td>\n",
       "    </tr>\n",
       "    <tr>\n",
       "      <th>4</th>\n",
       "      <td>5</td>\n",
       "      <td>кофе 3 в 1</td>\n",
       "      <td>15.0</td>\n",
       "    </tr>\n",
       "  </tbody>\n",
       "</table>\n",
       "</div>"
      ],
      "text/plain": [
       "   product_id                     name  price\n",
       "0           1                    сахар  150.0\n",
       "1           2  чай зеленый в пакетиках   50.0\n",
       "2           3      вода негазированная   80.4\n",
       "3           4                  леденцы   45.5\n",
       "4           5               кофе 3 в 1   15.0"
      ]
     },
     "execution_count": 7,
     "metadata": {},
     "output_type": "execute_result"
    }
   ],
   "source": [
    "ab_products.head()"
   ]
  },
  {
   "cell_type": "code",
   "execution_count": 8,
   "metadata": {},
   "outputs": [
    {
     "data": {
      "text/html": [
       "<div>\n",
       "<style scoped>\n",
       "    .dataframe tbody tr th:only-of-type {\n",
       "        vertical-align: middle;\n",
       "    }\n",
       "\n",
       "    .dataframe tbody tr th {\n",
       "        vertical-align: top;\n",
       "    }\n",
       "\n",
       "    .dataframe thead th {\n",
       "        text-align: right;\n",
       "    }\n",
       "</style>\n",
       "<table border=\"1\" class=\"dataframe\">\n",
       "  <thead>\n",
       "    <tr style=\"text-align: right;\">\n",
       "      <th></th>\n",
       "      <th>order_id</th>\n",
       "      <th>creation_time</th>\n",
       "      <th>product_ids</th>\n",
       "    </tr>\n",
       "  </thead>\n",
       "  <tbody>\n",
       "    <tr>\n",
       "      <th>0</th>\n",
       "      <td>1255</td>\n",
       "      <td>2022-08-26 00:00:19.000000</td>\n",
       "      <td>{75, 22, 53, 84}</td>\n",
       "    </tr>\n",
       "    <tr>\n",
       "      <th>1</th>\n",
       "      <td>1256</td>\n",
       "      <td>2022-08-26 00:02:21.000000</td>\n",
       "      <td>{56, 76, 39}</td>\n",
       "    </tr>\n",
       "    <tr>\n",
       "      <th>2</th>\n",
       "      <td>1257</td>\n",
       "      <td>2022-08-26 00:02:27.000000</td>\n",
       "      <td>{76, 34, 41, 38}</td>\n",
       "    </tr>\n",
       "    <tr>\n",
       "      <th>3</th>\n",
       "      <td>1258</td>\n",
       "      <td>2022-08-26 00:02:56.000000</td>\n",
       "      <td>{74, 6}</td>\n",
       "    </tr>\n",
       "    <tr>\n",
       "      <th>4</th>\n",
       "      <td>1259</td>\n",
       "      <td>2022-08-26 00:03:37.000000</td>\n",
       "      <td>{20, 45, 67, 26}</td>\n",
       "    </tr>\n",
       "  </tbody>\n",
       "</table>\n",
       "</div>"
      ],
      "text/plain": [
       "   order_id               creation_time       product_ids\n",
       "0      1255  2022-08-26 00:00:19.000000  {75, 22, 53, 84}\n",
       "1      1256  2022-08-26 00:02:21.000000      {56, 76, 39}\n",
       "2      1257  2022-08-26 00:02:27.000000  {76, 34, 41, 38}\n",
       "3      1258  2022-08-26 00:02:56.000000           {74, 6}\n",
       "4      1259  2022-08-26 00:03:37.000000  {20, 45, 67, 26}"
      ]
     },
     "execution_count": 8,
     "metadata": {},
     "output_type": "execute_result"
    }
   ],
   "source": [
    "ab_orders.head()"
   ]
  },
  {
   "cell_type": "markdown",
   "metadata": {},
   "source": [
    "**Предварительная подготовка данных**"
   ]
  },
  {
   "cell_type": "markdown",
   "metadata": {},
   "source": [
    "Проверим исходные данные на наличие пропущенных значений и типы данных"
   ]
  },
  {
   "cell_type": "code",
   "execution_count": 9,
   "metadata": {},
   "outputs": [
    {
     "data": {
      "text/plain": [
       "order_id         0\n",
       "creation_time    0\n",
       "product_ids      0\n",
       "dtype: int64"
      ]
     },
     "execution_count": 9,
     "metadata": {},
     "output_type": "execute_result"
    }
   ],
   "source": [
    "ab_orders.isna().sum()"
   ]
  },
  {
   "cell_type": "code",
   "execution_count": 10,
   "metadata": {},
   "outputs": [
    {
     "data": {
      "text/plain": [
       "user_id     0\n",
       "order_id    0\n",
       "action      0\n",
       "time        0\n",
       "date        0\n",
       "group       0\n",
       "dtype: int64"
      ]
     },
     "execution_count": 10,
     "metadata": {},
     "output_type": "execute_result"
    }
   ],
   "source": [
    "ab_users_data.isna().sum()"
   ]
  },
  {
   "cell_type": "code",
   "execution_count": 11,
   "metadata": {},
   "outputs": [
    {
     "data": {
      "text/plain": [
       "product_id    0\n",
       "name          0\n",
       "price         0\n",
       "dtype: int64"
      ]
     },
     "execution_count": 11,
     "metadata": {},
     "output_type": "execute_result"
    }
   ],
   "source": [
    "ab_products.isna().sum()"
   ]
  },
  {
   "cell_type": "code",
   "execution_count": 12,
   "metadata": {},
   "outputs": [
    {
     "data": {
      "text/plain": [
       "order_id          int64\n",
       "creation_time    object\n",
       "product_ids      object\n",
       "dtype: object"
      ]
     },
     "execution_count": 12,
     "metadata": {},
     "output_type": "execute_result"
    }
   ],
   "source": [
    "ab_orders.dtypes"
   ]
  },
  {
   "cell_type": "code",
   "execution_count": 13,
   "metadata": {},
   "outputs": [
    {
     "data": {
      "text/plain": [
       "user_id      int64\n",
       "order_id     int64\n",
       "action      object\n",
       "time        object\n",
       "date        object\n",
       "group        int64\n",
       "dtype: object"
      ]
     },
     "execution_count": 13,
     "metadata": {},
     "output_type": "execute_result"
    }
   ],
   "source": [
    "ab_users_data.dtypes"
   ]
  },
  {
   "cell_type": "code",
   "execution_count": 14,
   "metadata": {},
   "outputs": [
    {
     "data": {
      "text/plain": [
       "product_id      int64\n",
       "name           object\n",
       "price         float64\n",
       "dtype: object"
      ]
     },
     "execution_count": 14,
     "metadata": {},
     "output_type": "execute_result"
    }
   ],
   "source": [
    "ab_products.dtypes"
   ]
  },
  {
   "cell_type": "markdown",
   "metadata": {},
   "source": [
    "Приводим столбцы с датами и временем в нужный формат данных"
   ]
  },
  {
   "cell_type": "code",
   "execution_count": 15,
   "metadata": {},
   "outputs": [],
   "source": [
    "ab_users_data[['time','date']] = ab_users_data[['time','date']].apply(pd.to_datetime) "
   ]
  },
  {
   "cell_type": "code",
   "execution_count": 16,
   "metadata": {},
   "outputs": [],
   "source": [
    "ab_orders.creation_time = pd.to_datetime(ab_orders.creation_time)"
   ]
  },
  {
   "cell_type": "markdown",
   "metadata": {},
   "source": [
    "В таблице ab_orders преобразуем столбец product_ids в список, чтобы в дальнейшем можно было рассчитать сумму по каждому заказу"
   ]
  },
  {
   "cell_type": "code",
   "execution_count": 17,
   "metadata": {},
   "outputs": [],
   "source": [
    "ab_orders.product_ids = ab_orders.product_ids.apply(lambda x: x.strip('}{')).str.split(',')"
   ]
  },
  {
   "cell_type": "code",
   "execution_count": 18,
   "metadata": {},
   "outputs": [
    {
     "data": {
      "text/html": [
       "<div>\n",
       "<style scoped>\n",
       "    .dataframe tbody tr th:only-of-type {\n",
       "        vertical-align: middle;\n",
       "    }\n",
       "\n",
       "    .dataframe tbody tr th {\n",
       "        vertical-align: top;\n",
       "    }\n",
       "\n",
       "    .dataframe thead th {\n",
       "        text-align: right;\n",
       "    }\n",
       "</style>\n",
       "<table border=\"1\" class=\"dataframe\">\n",
       "  <thead>\n",
       "    <tr style=\"text-align: right;\">\n",
       "      <th></th>\n",
       "      <th>order_id</th>\n",
       "      <th>creation_time</th>\n",
       "      <th>product_ids</th>\n",
       "    </tr>\n",
       "  </thead>\n",
       "  <tbody>\n",
       "    <tr>\n",
       "      <th>0</th>\n",
       "      <td>1255</td>\n",
       "      <td>2022-08-26 00:00:19</td>\n",
       "      <td>[75,  22,  53,  84]</td>\n",
       "    </tr>\n",
       "    <tr>\n",
       "      <th>1</th>\n",
       "      <td>1256</td>\n",
       "      <td>2022-08-26 00:02:21</td>\n",
       "      <td>[56,  76,  39]</td>\n",
       "    </tr>\n",
       "    <tr>\n",
       "      <th>2</th>\n",
       "      <td>1257</td>\n",
       "      <td>2022-08-26 00:02:27</td>\n",
       "      <td>[76,  34,  41,  38]</td>\n",
       "    </tr>\n",
       "    <tr>\n",
       "      <th>3</th>\n",
       "      <td>1258</td>\n",
       "      <td>2022-08-26 00:02:56</td>\n",
       "      <td>[74,  6]</td>\n",
       "    </tr>\n",
       "    <tr>\n",
       "      <th>4</th>\n",
       "      <td>1259</td>\n",
       "      <td>2022-08-26 00:03:37</td>\n",
       "      <td>[20,  45,  67,  26]</td>\n",
       "    </tr>\n",
       "  </tbody>\n",
       "</table>\n",
       "</div>"
      ],
      "text/plain": [
       "   order_id       creation_time          product_ids\n",
       "0      1255 2022-08-26 00:00:19  [75,  22,  53,  84]\n",
       "1      1256 2022-08-26 00:02:21       [56,  76,  39]\n",
       "2      1257 2022-08-26 00:02:27  [76,  34,  41,  38]\n",
       "3      1258 2022-08-26 00:02:56             [74,  6]\n",
       "4      1259 2022-08-26 00:03:37  [20,  45,  67,  26]"
      ]
     },
     "execution_count": 18,
     "metadata": {},
     "output_type": "execute_result"
    }
   ],
   "source": [
    "ab_orders.head()"
   ]
  },
  {
   "cell_type": "markdown",
   "metadata": {},
   "source": [
    "Далее, с помощью функции explode разобъем списки в столбце product_ids по элементам. Заодно переименуем столбец так, чтобы его наименование совпадало с наименованием в таблице ab_products"
   ]
  },
  {
   "cell_type": "code",
   "execution_count": 19,
   "metadata": {},
   "outputs": [],
   "source": [
    "ab_orders = ab_orders.explode('product_ids').rename(columns = {'product_ids' : 'product_id'})"
   ]
  },
  {
   "cell_type": "code",
   "execution_count": 20,
   "metadata": {},
   "outputs": [],
   "source": [
    "ab_orders.product_id = ab_orders.product_id.astype(int) # тип данных у столбцов не совпал, преобразуем"
   ]
  },
  {
   "cell_type": "code",
   "execution_count": 21,
   "metadata": {},
   "outputs": [
    {
     "data": {
      "text/plain": [
       "order_id                  int64\n",
       "creation_time    datetime64[ns]\n",
       "product_id                int64\n",
       "dtype: object"
      ]
     },
     "execution_count": 21,
     "metadata": {},
     "output_type": "execute_result"
    }
   ],
   "source": [
    "ab_orders.dtypes"
   ]
  },
  {
   "cell_type": "markdown",
   "metadata": {},
   "source": [
    "Объединим таблицы ab_orders и ab_products, чтобы иметь возможность рассчитать сумму по каждому заказу"
   ]
  },
  {
   "cell_type": "code",
   "execution_count": 22,
   "metadata": {},
   "outputs": [],
   "source": [
    "ab_orders_price = ab_orders.merge(ab_products, how = 'inner', on = 'product_id')"
   ]
  },
  {
   "cell_type": "code",
   "execution_count": 23,
   "metadata": {},
   "outputs": [
    {
     "data": {
      "text/html": [
       "<div>\n",
       "<style scoped>\n",
       "    .dataframe tbody tr th:only-of-type {\n",
       "        vertical-align: middle;\n",
       "    }\n",
       "\n",
       "    .dataframe tbody tr th {\n",
       "        vertical-align: top;\n",
       "    }\n",
       "\n",
       "    .dataframe thead th {\n",
       "        text-align: right;\n",
       "    }\n",
       "</style>\n",
       "<table border=\"1\" class=\"dataframe\">\n",
       "  <thead>\n",
       "    <tr style=\"text-align: right;\">\n",
       "      <th></th>\n",
       "      <th>order_id</th>\n",
       "      <th>creation_time</th>\n",
       "      <th>product_id</th>\n",
       "      <th>name</th>\n",
       "      <th>price</th>\n",
       "    </tr>\n",
       "  </thead>\n",
       "  <tbody>\n",
       "    <tr>\n",
       "      <th>0</th>\n",
       "      <td>1255</td>\n",
       "      <td>2022-08-26 00:00:19</td>\n",
       "      <td>75</td>\n",
       "      <td>сок ананасовый</td>\n",
       "      <td>120.0</td>\n",
       "    </tr>\n",
       "    <tr>\n",
       "      <th>1</th>\n",
       "      <td>1287</td>\n",
       "      <td>2022-08-26 00:31:36</td>\n",
       "      <td>75</td>\n",
       "      <td>сок ананасовый</td>\n",
       "      <td>120.0</td>\n",
       "    </tr>\n",
       "    <tr>\n",
       "      <th>2</th>\n",
       "      <td>1403</td>\n",
       "      <td>2022-08-26 03:01:40</td>\n",
       "      <td>75</td>\n",
       "      <td>сок ананасовый</td>\n",
       "      <td>120.0</td>\n",
       "    </tr>\n",
       "    <tr>\n",
       "      <th>3</th>\n",
       "      <td>1424</td>\n",
       "      <td>2022-08-26 04:01:22</td>\n",
       "      <td>75</td>\n",
       "      <td>сок ананасовый</td>\n",
       "      <td>120.0</td>\n",
       "    </tr>\n",
       "    <tr>\n",
       "      <th>4</th>\n",
       "      <td>1495</td>\n",
       "      <td>2022-08-26 06:04:05</td>\n",
       "      <td>75</td>\n",
       "      <td>сок ананасовый</td>\n",
       "      <td>120.0</td>\n",
       "    </tr>\n",
       "  </tbody>\n",
       "</table>\n",
       "</div>"
      ],
      "text/plain": [
       "   order_id       creation_time  product_id            name  price\n",
       "0      1255 2022-08-26 00:00:19          75  сок ананасовый  120.0\n",
       "1      1287 2022-08-26 00:31:36          75  сок ананасовый  120.0\n",
       "2      1403 2022-08-26 03:01:40          75  сок ананасовый  120.0\n",
       "3      1424 2022-08-26 04:01:22          75  сок ананасовый  120.0\n",
       "4      1495 2022-08-26 06:04:05          75  сок ананасовый  120.0"
      ]
     },
     "execution_count": 23,
     "metadata": {},
     "output_type": "execute_result"
    }
   ],
   "source": [
    "ab_orders_price.head()"
   ]
  },
  {
   "cell_type": "markdown",
   "metadata": {},
   "source": [
    "Рассчитаем сумму по каждому заказу"
   ]
  },
  {
   "cell_type": "code",
   "execution_count": 24,
   "metadata": {},
   "outputs": [],
   "source": [
    "orders_sum = ab_orders_price.groupby('order_id', as_index = False) \\\n",
    "                            .agg({'price' : 'sum'}) \\\n",
    "                            .rename(columns = {'price' : 'order_sum'})"
   ]
  },
  {
   "cell_type": "code",
   "execution_count": 25,
   "metadata": {},
   "outputs": [
    {
     "data": {
      "text/html": [
       "<div>\n",
       "<style scoped>\n",
       "    .dataframe tbody tr th:only-of-type {\n",
       "        vertical-align: middle;\n",
       "    }\n",
       "\n",
       "    .dataframe tbody tr th {\n",
       "        vertical-align: top;\n",
       "    }\n",
       "\n",
       "    .dataframe thead th {\n",
       "        text-align: right;\n",
       "    }\n",
       "</style>\n",
       "<table border=\"1\" class=\"dataframe\">\n",
       "  <thead>\n",
       "    <tr style=\"text-align: right;\">\n",
       "      <th></th>\n",
       "      <th>order_id</th>\n",
       "      <th>order_sum</th>\n",
       "    </tr>\n",
       "  </thead>\n",
       "  <tbody>\n",
       "    <tr>\n",
       "      <th>0</th>\n",
       "      <td>1255</td>\n",
       "      <td>408.7</td>\n",
       "    </tr>\n",
       "    <tr>\n",
       "      <th>1</th>\n",
       "      <td>1256</td>\n",
       "      <td>250.5</td>\n",
       "    </tr>\n",
       "    <tr>\n",
       "      <th>2</th>\n",
       "      <td>1257</td>\n",
       "      <td>310.2</td>\n",
       "    </tr>\n",
       "    <tr>\n",
       "      <th>3</th>\n",
       "      <td>1258</td>\n",
       "      <td>85.0</td>\n",
       "    </tr>\n",
       "    <tr>\n",
       "      <th>4</th>\n",
       "      <td>1259</td>\n",
       "      <td>228.0</td>\n",
       "    </tr>\n",
       "  </tbody>\n",
       "</table>\n",
       "</div>"
      ],
      "text/plain": [
       "   order_id  order_sum\n",
       "0      1255      408.7\n",
       "1      1256      250.5\n",
       "2      1257      310.2\n",
       "3      1258       85.0\n",
       "4      1259      228.0"
      ]
     },
     "execution_count": 25,
     "metadata": {},
     "output_type": "execute_result"
    }
   ],
   "source": [
    "orders_sum.head()"
   ]
  },
  {
   "cell_type": "markdown",
   "metadata": {},
   "source": [
    "Объединим таблицы ab_users_data и orders_sum. В итоговой таблице у нас будут полные данные о пользователях, их заказах и суммах этих заказов"
   ]
  },
  {
   "cell_type": "code",
   "execution_count": 26,
   "metadata": {},
   "outputs": [],
   "source": [
    "final_df = ab_users_data.merge(orders_sum, how = 'left', on = 'order_id')"
   ]
  },
  {
   "cell_type": "code",
   "execution_count": 27,
   "metadata": {},
   "outputs": [
    {
     "data": {
      "text/html": [
       "<div>\n",
       "<style scoped>\n",
       "    .dataframe tbody tr th:only-of-type {\n",
       "        vertical-align: middle;\n",
       "    }\n",
       "\n",
       "    .dataframe tbody tr th {\n",
       "        vertical-align: top;\n",
       "    }\n",
       "\n",
       "    .dataframe thead th {\n",
       "        text-align: right;\n",
       "    }\n",
       "</style>\n",
       "<table border=\"1\" class=\"dataframe\">\n",
       "  <thead>\n",
       "    <tr style=\"text-align: right;\">\n",
       "      <th></th>\n",
       "      <th>user_id</th>\n",
       "      <th>order_id</th>\n",
       "      <th>action</th>\n",
       "      <th>time</th>\n",
       "      <th>date</th>\n",
       "      <th>group</th>\n",
       "      <th>order_sum</th>\n",
       "    </tr>\n",
       "  </thead>\n",
       "  <tbody>\n",
       "    <tr>\n",
       "      <th>0</th>\n",
       "      <td>964</td>\n",
       "      <td>1255</td>\n",
       "      <td>create_order</td>\n",
       "      <td>2022-08-26 00:00:19</td>\n",
       "      <td>2022-08-26</td>\n",
       "      <td>0</td>\n",
       "      <td>408.7</td>\n",
       "    </tr>\n",
       "    <tr>\n",
       "      <th>1</th>\n",
       "      <td>965</td>\n",
       "      <td>1256</td>\n",
       "      <td>create_order</td>\n",
       "      <td>2022-08-26 00:02:21</td>\n",
       "      <td>2022-08-26</td>\n",
       "      <td>1</td>\n",
       "      <td>250.5</td>\n",
       "    </tr>\n",
       "    <tr>\n",
       "      <th>2</th>\n",
       "      <td>964</td>\n",
       "      <td>1257</td>\n",
       "      <td>create_order</td>\n",
       "      <td>2022-08-26 00:02:27</td>\n",
       "      <td>2022-08-26</td>\n",
       "      <td>0</td>\n",
       "      <td>310.2</td>\n",
       "    </tr>\n",
       "    <tr>\n",
       "      <th>3</th>\n",
       "      <td>966</td>\n",
       "      <td>1258</td>\n",
       "      <td>create_order</td>\n",
       "      <td>2022-08-26 00:02:56</td>\n",
       "      <td>2022-08-26</td>\n",
       "      <td>0</td>\n",
       "      <td>85.0</td>\n",
       "    </tr>\n",
       "    <tr>\n",
       "      <th>4</th>\n",
       "      <td>967</td>\n",
       "      <td>1259</td>\n",
       "      <td>create_order</td>\n",
       "      <td>2022-08-26 00:03:37</td>\n",
       "      <td>2022-08-26</td>\n",
       "      <td>1</td>\n",
       "      <td>228.0</td>\n",
       "    </tr>\n",
       "  </tbody>\n",
       "</table>\n",
       "</div>"
      ],
      "text/plain": [
       "   user_id  order_id        action                time       date  group  \\\n",
       "0      964      1255  create_order 2022-08-26 00:00:19 2022-08-26      0   \n",
       "1      965      1256  create_order 2022-08-26 00:02:21 2022-08-26      1   \n",
       "2      964      1257  create_order 2022-08-26 00:02:27 2022-08-26      0   \n",
       "3      966      1258  create_order 2022-08-26 00:02:56 2022-08-26      0   \n",
       "4      967      1259  create_order 2022-08-26 00:03:37 2022-08-26      1   \n",
       "\n",
       "   order_sum  \n",
       "0      408.7  \n",
       "1      250.5  \n",
       "2      310.2  \n",
       "3       85.0  \n",
       "4      228.0  "
      ]
     },
     "execution_count": 27,
     "metadata": {},
     "output_type": "execute_result"
    }
   ],
   "source": [
    "final_df.head()"
   ]
  },
  {
   "cell_type": "code",
   "execution_count": 28,
   "metadata": {},
   "outputs": [
    {
     "data": {
      "text/plain": [
       "user_id      0\n",
       "order_id     0\n",
       "action       0\n",
       "time         0\n",
       "date         0\n",
       "group        0\n",
       "order_sum    0\n",
       "dtype: int64"
      ]
     },
     "execution_count": 28,
     "metadata": {},
     "output_type": "execute_result"
    }
   ],
   "source": [
    "final_df.isna().sum()"
   ]
  },
  {
   "cell_type": "markdown",
   "metadata": {},
   "source": [
    "**Анализ результатов АВ-теста**"
   ]
  },
  {
   "cell_type": "markdown",
   "metadata": {},
   "source": [
    "Мы анализируем работу приложения по доставке продуктов и у нас имеются данные о созданных и отмененных заказах и сумма этих заказов. С точки зрения бизнеса успешность сервиса может измеряться в первую очередь суммой среднего чека на пользователя. Чем выше средний чек, тем лучше. Во вторую очередь можно исследовать то, как часто клиенты делали заказы в разных группах. Чем лучше работает система рекомендаций, тем чаще делаются заказы. Можно проанализировать соотношение сделанных заказов и отмененных -  если новый сервис более удобный, то  доля отмен не должна увеличиваться. "
   ]
  },
  {
   "cell_type": "code",
   "execution_count": 29,
   "metadata": {},
   "outputs": [
    {
     "data": {
      "text/plain": [
       "515"
      ]
     },
     "execution_count": 29,
     "metadata": {},
     "output_type": "execute_result"
    }
   ],
   "source": [
    "final_df.query('group == \"0\"').user_id.nunique()  # количество пользователей из группы 0"
   ]
  },
  {
   "cell_type": "code",
   "execution_count": 30,
   "metadata": {},
   "outputs": [
    {
     "data": {
      "text/plain": [
       "502"
      ]
     },
     "execution_count": 30,
     "metadata": {},
     "output_type": "execute_result"
    }
   ],
   "source": [
    "final_df.query('group == \"1\"').user_id.nunique()  # количество пользователей из группы 1"
   ]
  },
  {
   "cell_type": "markdown",
   "metadata": {},
   "source": [
    "Так как количество пользователей в двух группах примерно одинаковое, проанализируем общую сумму выручки по заказам. Для этого нужно выбрать только тех пользователей, которые заказы сделали и не отменили."
   ]
  },
  {
   "cell_type": "code",
   "execution_count": 31,
   "metadata": {},
   "outputs": [],
   "source": [
    "# все пользователи из нулевой группы\n",
    "final_df_group0 = final_df.query('group == \"0\"')\\\n",
    "                          .groupby(['user_id', 'order_id', 'action', 'date'], as_index = False)\\\n",
    "                          .agg({'order_sum' : 'sum'}) "
   ]
  },
  {
   "cell_type": "markdown",
   "metadata": {},
   "source": [
    "Чтобы удалить из выборки тех пользователей, которые сделали заказ, но потом его отменили, удалим повторяющиеся строки (у таких заказов повторяется order_id)"
   ]
  },
  {
   "cell_type": "code",
   "execution_count": 32,
   "metadata": {},
   "outputs": [],
   "source": [
    "created_group0 = final_df_group0.drop_duplicates(subset='order_id', keep= False) # пользователи, не отменившие свой заказ"
   ]
  },
  {
   "cell_type": "code",
   "execution_count": 33,
   "metadata": {},
   "outputs": [
    {
     "data": {
      "text/html": [
       "<div>\n",
       "<style scoped>\n",
       "    .dataframe tbody tr th:only-of-type {\n",
       "        vertical-align: middle;\n",
       "    }\n",
       "\n",
       "    .dataframe tbody tr th {\n",
       "        vertical-align: top;\n",
       "    }\n",
       "\n",
       "    .dataframe thead th {\n",
       "        text-align: right;\n",
       "    }\n",
       "</style>\n",
       "<table border=\"1\" class=\"dataframe\">\n",
       "  <thead>\n",
       "    <tr style=\"text-align: right;\">\n",
       "      <th></th>\n",
       "      <th>user_id</th>\n",
       "      <th>order_id</th>\n",
       "      <th>action</th>\n",
       "      <th>date</th>\n",
       "      <th>order_sum</th>\n",
       "    </tr>\n",
       "  </thead>\n",
       "  <tbody>\n",
       "    <tr>\n",
       "      <th>0</th>\n",
       "      <td>964</td>\n",
       "      <td>1255</td>\n",
       "      <td>create_order</td>\n",
       "      <td>2022-08-26</td>\n",
       "      <td>408.7</td>\n",
       "    </tr>\n",
       "    <tr>\n",
       "      <th>1</th>\n",
       "      <td>964</td>\n",
       "      <td>1257</td>\n",
       "      <td>create_order</td>\n",
       "      <td>2022-08-26</td>\n",
       "      <td>310.2</td>\n",
       "    </tr>\n",
       "    <tr>\n",
       "      <th>4</th>\n",
       "      <td>968</td>\n",
       "      <td>1261</td>\n",
       "      <td>create_order</td>\n",
       "      <td>2022-08-26</td>\n",
       "      <td>430.7</td>\n",
       "    </tr>\n",
       "    <tr>\n",
       "      <th>5</th>\n",
       "      <td>968</td>\n",
       "      <td>14882</td>\n",
       "      <td>create_order</td>\n",
       "      <td>2022-08-30</td>\n",
       "      <td>870.0</td>\n",
       "    </tr>\n",
       "    <tr>\n",
       "      <th>6</th>\n",
       "      <td>968</td>\n",
       "      <td>15704</td>\n",
       "      <td>create_order</td>\n",
       "      <td>2022-08-31</td>\n",
       "      <td>290.0</td>\n",
       "    </tr>\n",
       "  </tbody>\n",
       "</table>\n",
       "</div>"
      ],
      "text/plain": [
       "   user_id  order_id        action       date  order_sum\n",
       "0      964      1255  create_order 2022-08-26      408.7\n",
       "1      964      1257  create_order 2022-08-26      310.2\n",
       "4      968      1261  create_order 2022-08-26      430.7\n",
       "5      968     14882  create_order 2022-08-30      870.0\n",
       "6      968     15704  create_order 2022-08-31      290.0"
      ]
     },
     "execution_count": 33,
     "metadata": {},
     "output_type": "execute_result"
    }
   ],
   "source": [
    "created_group0.head()"
   ]
  },
  {
   "cell_type": "code",
   "execution_count": 34,
   "metadata": {},
   "outputs": [],
   "source": [
    "a = created_group0.order_sum.sum() # сумма всех заказов пользователей из группы 0"
   ]
  },
  {
   "cell_type": "markdown",
   "metadata": {},
   "source": [
    "Аналогичные действия для другой группы:"
   ]
  },
  {
   "cell_type": "code",
   "execution_count": 35,
   "metadata": {},
   "outputs": [],
   "source": [
    "# все пользователи из группы 1\n",
    "final_df_group1 = final_df.query('group == \"1\"')\\\n",
    "                          .groupby(['user_id','order_id', 'action', 'date'], as_index = False)\\\n",
    "                          .agg({'order_sum' : 'sum'}) "
   ]
  },
  {
   "cell_type": "code",
   "execution_count": 36,
   "metadata": {},
   "outputs": [],
   "source": [
    "created_group1 = final_df_group1.drop_duplicates(subset='order_id', keep= False) # пользователи, не отменившие свой заказ"
   ]
  },
  {
   "cell_type": "code",
   "execution_count": 37,
   "metadata": {},
   "outputs": [
    {
     "data": {
      "text/html": [
       "<div>\n",
       "<style scoped>\n",
       "    .dataframe tbody tr th:only-of-type {\n",
       "        vertical-align: middle;\n",
       "    }\n",
       "\n",
       "    .dataframe tbody tr th {\n",
       "        vertical-align: top;\n",
       "    }\n",
       "\n",
       "    .dataframe thead th {\n",
       "        text-align: right;\n",
       "    }\n",
       "</style>\n",
       "<table border=\"1\" class=\"dataframe\">\n",
       "  <thead>\n",
       "    <tr style=\"text-align: right;\">\n",
       "      <th></th>\n",
       "      <th>user_id</th>\n",
       "      <th>order_id</th>\n",
       "      <th>action</th>\n",
       "      <th>date</th>\n",
       "      <th>order_sum</th>\n",
       "    </tr>\n",
       "  </thead>\n",
       "  <tbody>\n",
       "    <tr>\n",
       "      <th>0</th>\n",
       "      <td>965</td>\n",
       "      <td>1256</td>\n",
       "      <td>create_order</td>\n",
       "      <td>2022-08-26</td>\n",
       "      <td>250.5</td>\n",
       "    </tr>\n",
       "    <tr>\n",
       "      <th>1</th>\n",
       "      <td>965</td>\n",
       "      <td>3946</td>\n",
       "      <td>create_order</td>\n",
       "      <td>2022-08-27</td>\n",
       "      <td>860.6</td>\n",
       "    </tr>\n",
       "    <tr>\n",
       "      <th>2</th>\n",
       "      <td>965</td>\n",
       "      <td>9097</td>\n",
       "      <td>create_order</td>\n",
       "      <td>2022-08-29</td>\n",
       "      <td>608.2</td>\n",
       "    </tr>\n",
       "    <tr>\n",
       "      <th>3</th>\n",
       "      <td>965</td>\n",
       "      <td>9101</td>\n",
       "      <td>create_order</td>\n",
       "      <td>2022-08-29</td>\n",
       "      <td>203.5</td>\n",
       "    </tr>\n",
       "    <tr>\n",
       "      <th>4</th>\n",
       "      <td>965</td>\n",
       "      <td>10401</td>\n",
       "      <td>create_order</td>\n",
       "      <td>2022-08-29</td>\n",
       "      <td>943.7</td>\n",
       "    </tr>\n",
       "  </tbody>\n",
       "</table>\n",
       "</div>"
      ],
      "text/plain": [
       "   user_id  order_id        action       date  order_sum\n",
       "0      965      1256  create_order 2022-08-26      250.5\n",
       "1      965      3946  create_order 2022-08-27      860.6\n",
       "2      965      9097  create_order 2022-08-29      608.2\n",
       "3      965      9101  create_order 2022-08-29      203.5\n",
       "4      965     10401  create_order 2022-08-29      943.7"
      ]
     },
     "execution_count": 37,
     "metadata": {},
     "output_type": "execute_result"
    }
   ],
   "source": [
    "created_group1.head()"
   ]
  },
  {
   "cell_type": "code",
   "execution_count": 38,
   "metadata": {},
   "outputs": [],
   "source": [
    "b = created_group1.order_sum.sum() # сумма всех заказов пользователей из группы 1"
   ]
  },
  {
   "cell_type": "code",
   "execution_count": 39,
   "metadata": {},
   "outputs": [
    {
     "name": "stdout",
     "output_type": "stream",
     "text": [
      "1.51 отношение выручки из группы 1 к выручке из группы 0\n",
      "1.56 отношение количества заказов в группе 1 к группе 0\n"
     ]
    }
   ],
   "source": [
    "print('{:.2f} отношение выручки из группы 1 к выручке из группы 0'.format(b/a))\n",
    "print('{:.2f} отношение количества заказов в группе 1 к группе 0'.format(created_group1.order_id.nunique()/created_group0.order_id.nunique()))"
   ]
  },
  {
   "cell_type": "markdown",
   "metadata": {},
   "source": [
    "*Вывод 1: пользователи из группы 1 (с новой системой рекомендаций) принесли компании в полтора раза больше выручки.* <br> *Вывод 2: пользователи из группы 1 (с новой системой рекомендаций) заказывали в полтора раза чаще.* "
   ]
  },
  {
   "cell_type": "markdown",
   "metadata": {},
   "source": [
    "Проведем анализ среднего чека на пользователя"
   ]
  },
  {
   "cell_type": "code",
   "execution_count": 40,
   "metadata": {},
   "outputs": [],
   "source": [
    "mean_0 = created_group0.groupby('user_id', as_index = False)\\\n",
    "                          .agg({'order_sum' : 'sum'})"
   ]
  },
  {
   "cell_type": "code",
   "execution_count": 41,
   "metadata": {},
   "outputs": [],
   "source": [
    "mean_1 = created_group1.groupby('user_id', as_index = False)\\\n",
    "                          .agg({'order_sum' : 'sum'})"
   ]
  },
  {
   "cell_type": "code",
   "execution_count": 42,
   "metadata": {},
   "outputs": [
    {
     "data": {
      "text/plain": [
       "1139.5623046875"
      ]
     },
     "execution_count": 42,
     "metadata": {},
     "output_type": "execute_result"
    }
   ],
   "source": [
    "mean_0.order_sum.mean()  # средний чек в группе 0 (пользователи, не отменившие заказ)"
   ]
  },
  {
   "cell_type": "code",
   "execution_count": 43,
   "metadata": {},
   "outputs": [
    {
     "data": {
      "text/plain": [
       "1753.7493013972055"
      ]
     },
     "execution_count": 43,
     "metadata": {},
     "output_type": "execute_result"
    }
   ],
   "source": [
    "mean_1.order_sum.mean()  # средний чек в группе 1 (пользователи, не отменившие заказ)"
   ]
  },
  {
   "cell_type": "code",
   "execution_count": 44,
   "metadata": {},
   "outputs": [
    {
     "data": {
      "text/plain": [
       "1.5389674563499471"
      ]
     },
     "execution_count": 44,
     "metadata": {},
     "output_type": "execute_result"
    }
   ],
   "source": [
    "1753.7493013972055 / 1139.5623046875"
   ]
  },
  {
   "cell_type": "markdown",
   "metadata": {},
   "source": [
    "Средний чек в первой группе выше на 53,9%. Проверим, является ли эта разница статистически значимой. Так как данные являются количественными, для анализ будем использовать t-тест.<br>\n",
    "\n",
    "В рамках t-теста формулируются две гипотезы:<br>\n",
    "Н_0 – в выборках значимого различия между средними значениями нет<br>\n",
    "H_1 – средние в выборках не равны (альтернативная гипотеза)<br>\n",
    "Для сравнения средних с помощью t-критерия нужно, чтобы соблюдался ряд требований, в частности, распределение значений должно быть нормальным, дисперсии внутри групп должны быть примерно одинаковы (требование гомогенности дисперсий).\n",
    "\n",
    "Проверим две группы данных на соответствие требованиям."
   ]
  },
  {
   "cell_type": "markdown",
   "metadata": {},
   "source": [
    "Обычно нормальность тестируют с помощью теста Шапиро-Уилка (scipy.stats.shapiro()), однако на больших выборках этот тест слишком рьяно находит отклонения от нормальности. Поэтому использовалась функция scipy.stats.normaltest() - она больше адаптирована к большим выборкам\n",
    "Нулевая гипотеза теста - распределение нормальное. Альтернативная гипотеза теста - распределение отличается от нормального"
   ]
  },
  {
   "cell_type": "code",
   "execution_count": 45,
   "metadata": {},
   "outputs": [
    {
     "data": {
      "text/plain": [
       "NormaltestResult(statistic=165.14145937540576, pvalue=1.3803452652449819e-36)"
      ]
     },
     "execution_count": 45,
     "metadata": {},
     "output_type": "execute_result"
    }
   ],
   "source": [
    "scipy.stats.normaltest(mean_0.order_sum)  # проверка на нормальноссть распределения для нулевой группы. "
   ]
  },
  {
   "cell_type": "code",
   "execution_count": 46,
   "metadata": {},
   "outputs": [
    {
     "data": {
      "text/plain": [
       "NormaltestResult(statistic=21.24303377815477, pvalue=2.438562133100666e-05)"
      ]
     },
     "execution_count": 46,
     "metadata": {},
     "output_type": "execute_result"
    }
   ],
   "source": [
    "scipy.stats.normaltest(mean_1.order_sum)  # проверка на нормальноссть распределения для первой группы."
   ]
  },
  {
   "cell_type": "markdown",
   "metadata": {},
   "source": [
    "Полученные значения p-value меньше порога значимости 0,05, следовательно, тесты показывают, что мы не можем принять нулевую гипотезу, значения в группах распределены ненормально."
   ]
  },
  {
   "cell_type": "markdown",
   "metadata": {},
   "source": [
    "Тестируем различие в дисперсиях с помощью критерия Левена. Нулевая гипотеза для этого теста: дисперсии в двух выборках не имеют значимых различий. Альтернативная гипотеза - дисперсии в выборках значимо отличаются"
   ]
  },
  {
   "cell_type": "code",
   "execution_count": 47,
   "metadata": {},
   "outputs": [
    {
     "data": {
      "text/plain": [
       "LeveneResult(statistic=18.466657739438077, pvalue=1.896012459520485e-05)"
      ]
     },
     "execution_count": 47,
     "metadata": {},
     "output_type": "execute_result"
    }
   ],
   "source": [
    "stats.levene(mean_0.order_sum, mean_1.order_sum)"
   ]
  },
  {
   "cell_type": "markdown",
   "metadata": {},
   "source": [
    "Так как p-значение теста Левена меньше принятого уровня значимости 0.05, у нас нет оснований принять нулевую гипотезу и мы делаем вывод о том, что дисперсии в двух выборках имеют значимые различия\n",
    "\n",
    "В итоге, требования при применении t-критерия не выполяются, распределение не является нормальным и дисперсии отличаются. На практике t-тест может быть использован для сравнения средних и при ненормальном распределении, особенно на больших выборках<br>\n",
    "\n",
    "По умолчанию stats.ttest_ind предполагает равные дисперсии генеральной совокупности. Если установлен параметр equal_var=False, то это не предполагает равных дисперсий генеральной совокупности (поправка Уэлча)."
   ]
  },
  {
   "cell_type": "code",
   "execution_count": 48,
   "metadata": {},
   "outputs": [
    {
     "data": {
      "text/plain": [
       "Ttest_indResult(statistic=-11.208629753614105, pvalue=1.572166429481266e-27)"
      ]
     },
     "execution_count": 48,
     "metadata": {},
     "output_type": "execute_result"
    }
   ],
   "source": [
    "stats.ttest_ind(mean_0.order_sum, mean_1.order_sum, equal_var=False)"
   ]
  },
  {
   "cell_type": "markdown",
   "metadata": {},
   "source": [
    "Полученное в результате t-теста p-значение ниже уровня значимости 0.05, следовательно, у нас нет оснований принять нулевую гипотезу, принимаем альтернативную – в группах средние значения отличиются статистически значимо."
   ]
  },
  {
   "cell_type": "markdown",
   "metadata": {},
   "source": [
    "Так как у нас есть две категориальные переменные, используем критерий Хи-квадрат <br> Проверим нулевую гипотезу: в двух группах количество созданных и отмененных заказов одинаковое. Альтернативной будет являться гипотеза, что новый алгоритм изменил соотношение созданных и отмененных заказов."
   ]
  },
  {
   "cell_type": "markdown",
   "metadata": {},
   "source": [
    "Пользователи, которые создали и не отменили свои заказы есть в таблицах final_df_group0 и final_df_group1. Их количество приведено ниже"
   ]
  },
  {
   "cell_type": "code",
   "execution_count": 49,
   "metadata": {},
   "outputs": [],
   "source": [
    "create_0 = created_group0.shape[0] # кол-во созданных и не отмененных заказов из группы 0"
   ]
  },
  {
   "cell_type": "code",
   "execution_count": 50,
   "metadata": {},
   "outputs": [
    {
     "data": {
      "text/plain": [
       "1527"
      ]
     },
     "execution_count": 50,
     "metadata": {},
     "output_type": "execute_result"
    }
   ],
   "source": [
    "create_0"
   ]
  },
  {
   "cell_type": "code",
   "execution_count": 51,
   "metadata": {},
   "outputs": [],
   "source": [
    "create_1 = created_group1.shape[0] # кол-во созданных и не отмененных заказов из группы 1"
   ]
  },
  {
   "cell_type": "code",
   "execution_count": 52,
   "metadata": {},
   "outputs": [
    {
     "data": {
      "text/plain": [
       "2382"
      ]
     },
     "execution_count": 52,
     "metadata": {},
     "output_type": "execute_result"
    }
   ],
   "source": [
    "create_1"
   ]
  },
  {
   "cell_type": "markdown",
   "metadata": {},
   "source": [
    "Посчитаем пользователей, отменивших свои заказы"
   ]
  },
  {
   "cell_type": "code",
   "execution_count": 53,
   "metadata": {},
   "outputs": [],
   "source": [
    "canceled_group0 = final_df_group0.loc[final_df_group0.duplicated(['order_id'])]"
   ]
  },
  {
   "cell_type": "code",
   "execution_count": 54,
   "metadata": {},
   "outputs": [
    {
     "data": {
      "text/html": [
       "<div>\n",
       "<style scoped>\n",
       "    .dataframe tbody tr th:only-of-type {\n",
       "        vertical-align: middle;\n",
       "    }\n",
       "\n",
       "    .dataframe tbody tr th {\n",
       "        vertical-align: top;\n",
       "    }\n",
       "\n",
       "    .dataframe thead th {\n",
       "        text-align: right;\n",
       "    }\n",
       "</style>\n",
       "<table border=\"1\" class=\"dataframe\">\n",
       "  <thead>\n",
       "    <tr style=\"text-align: right;\">\n",
       "      <th></th>\n",
       "      <th>user_id</th>\n",
       "      <th>order_id</th>\n",
       "      <th>action</th>\n",
       "      <th>date</th>\n",
       "      <th>order_sum</th>\n",
       "    </tr>\n",
       "  </thead>\n",
       "  <tbody>\n",
       "    <tr>\n",
       "      <th>3</th>\n",
       "      <td>966</td>\n",
       "      <td>1258</td>\n",
       "      <td>create_order</td>\n",
       "      <td>2022-08-26</td>\n",
       "      <td>85.0</td>\n",
       "    </tr>\n",
       "    <tr>\n",
       "      <th>40</th>\n",
       "      <td>993</td>\n",
       "      <td>1296</td>\n",
       "      <td>create_order</td>\n",
       "      <td>2022-08-26</td>\n",
       "      <td>535.8</td>\n",
       "    </tr>\n",
       "    <tr>\n",
       "      <th>42</th>\n",
       "      <td>995</td>\n",
       "      <td>1298</td>\n",
       "      <td>create_order</td>\n",
       "      <td>2022-08-26</td>\n",
       "      <td>273.8</td>\n",
       "    </tr>\n",
       "    <tr>\n",
       "      <th>55</th>\n",
       "      <td>1008</td>\n",
       "      <td>1315</td>\n",
       "      <td>create_order</td>\n",
       "      <td>2022-08-26</td>\n",
       "      <td>190.0</td>\n",
       "    </tr>\n",
       "    <tr>\n",
       "      <th>61</th>\n",
       "      <td>1012</td>\n",
       "      <td>9760</td>\n",
       "      <td>create_order</td>\n",
       "      <td>2022-08-29</td>\n",
       "      <td>685.8</td>\n",
       "    </tr>\n",
       "  </tbody>\n",
       "</table>\n",
       "</div>"
      ],
      "text/plain": [
       "    user_id  order_id        action       date  order_sum\n",
       "3       966      1258  create_order 2022-08-26       85.0\n",
       "40      993      1296  create_order 2022-08-26      535.8\n",
       "42      995      1298  create_order 2022-08-26      273.8\n",
       "55     1008      1315  create_order 2022-08-26      190.0\n",
       "61     1012      9760  create_order 2022-08-29      685.8"
      ]
     },
     "execution_count": 54,
     "metadata": {},
     "output_type": "execute_result"
    }
   ],
   "source": [
    "canceled_group0.head()"
   ]
  },
  {
   "cell_type": "code",
   "execution_count": 55,
   "metadata": {},
   "outputs": [],
   "source": [
    "canceled_group1 = final_df_group1.loc[final_df_group1.duplicated(['order_id'])]"
   ]
  },
  {
   "cell_type": "code",
   "execution_count": 56,
   "metadata": {},
   "outputs": [
    {
     "data": {
      "text/html": [
       "<div>\n",
       "<style scoped>\n",
       "    .dataframe tbody tr th:only-of-type {\n",
       "        vertical-align: middle;\n",
       "    }\n",
       "\n",
       "    .dataframe tbody tr th {\n",
       "        vertical-align: top;\n",
       "    }\n",
       "\n",
       "    .dataframe thead th {\n",
       "        text-align: right;\n",
       "    }\n",
       "</style>\n",
       "<table border=\"1\" class=\"dataframe\">\n",
       "  <thead>\n",
       "    <tr style=\"text-align: right;\">\n",
       "      <th></th>\n",
       "      <th>user_id</th>\n",
       "      <th>order_id</th>\n",
       "      <th>action</th>\n",
       "      <th>date</th>\n",
       "      <th>order_sum</th>\n",
       "    </tr>\n",
       "  </thead>\n",
       "  <tbody>\n",
       "    <tr>\n",
       "      <th>25</th>\n",
       "      <td>973</td>\n",
       "      <td>8736</td>\n",
       "      <td>create_order</td>\n",
       "      <td>2022-08-29</td>\n",
       "      <td>220.8</td>\n",
       "    </tr>\n",
       "    <tr>\n",
       "      <th>32</th>\n",
       "      <td>974</td>\n",
       "      <td>37835</td>\n",
       "      <td>create_order</td>\n",
       "      <td>2022-09-04</td>\n",
       "      <td>438.0</td>\n",
       "    </tr>\n",
       "    <tr>\n",
       "      <th>42</th>\n",
       "      <td>978</td>\n",
       "      <td>51564</td>\n",
       "      <td>create_order</td>\n",
       "      <td>2022-09-07</td>\n",
       "      <td>133.8</td>\n",
       "    </tr>\n",
       "    <tr>\n",
       "      <th>70</th>\n",
       "      <td>988</td>\n",
       "      <td>58492</td>\n",
       "      <td>create_order</td>\n",
       "      <td>2022-09-08</td>\n",
       "      <td>263.0</td>\n",
       "    </tr>\n",
       "    <tr>\n",
       "      <th>76</th>\n",
       "      <td>992</td>\n",
       "      <td>13162</td>\n",
       "      <td>create_order</td>\n",
       "      <td>2022-08-30</td>\n",
       "      <td>90.4</td>\n",
       "    </tr>\n",
       "  </tbody>\n",
       "</table>\n",
       "</div>"
      ],
      "text/plain": [
       "    user_id  order_id        action       date  order_sum\n",
       "25      973      8736  create_order 2022-08-29      220.8\n",
       "32      974     37835  create_order 2022-09-04      438.0\n",
       "42      978     51564  create_order 2022-09-07      133.8\n",
       "70      988     58492  create_order 2022-09-08      263.0\n",
       "76      992     13162  create_order 2022-08-30       90.4"
      ]
     },
     "execution_count": 56,
     "metadata": {},
     "output_type": "execute_result"
    }
   ],
   "source": [
    "canceled_group1.head()"
   ]
  },
  {
   "cell_type": "code",
   "execution_count": 57,
   "metadata": {},
   "outputs": [],
   "source": [
    "cancel_0 = canceled_group0.shape[0] # кол-во отмененных заказов из группы 0"
   ]
  },
  {
   "cell_type": "code",
   "execution_count": 58,
   "metadata": {},
   "outputs": [],
   "source": [
    "cancel_1 = canceled_group1.shape[0] # кол-во отмененных заказов из группы 1"
   ]
  },
  {
   "cell_type": "code",
   "execution_count": 59,
   "metadata": {},
   "outputs": [],
   "source": [
    "chi_table = pd.DataFrame({'created':[create_0, create_1], 'canceled':[cancel_0, cancel_1]} , index=[\"group_0\", \"group_1\"])"
   ]
  },
  {
   "cell_type": "code",
   "execution_count": 60,
   "metadata": {},
   "outputs": [
    {
     "data": {
      "text/html": [
       "<div>\n",
       "<style scoped>\n",
       "    .dataframe tbody tr th:only-of-type {\n",
       "        vertical-align: middle;\n",
       "    }\n",
       "\n",
       "    .dataframe tbody tr th {\n",
       "        vertical-align: top;\n",
       "    }\n",
       "\n",
       "    .dataframe thead th {\n",
       "        text-align: right;\n",
       "    }\n",
       "</style>\n",
       "<table border=\"1\" class=\"dataframe\">\n",
       "  <thead>\n",
       "    <tr style=\"text-align: right;\">\n",
       "      <th></th>\n",
       "      <th>created</th>\n",
       "      <th>canceled</th>\n",
       "    </tr>\n",
       "  </thead>\n",
       "  <tbody>\n",
       "    <tr>\n",
       "      <th>group_0</th>\n",
       "      <td>1527</td>\n",
       "      <td>82</td>\n",
       "    </tr>\n",
       "    <tr>\n",
       "      <th>group_1</th>\n",
       "      <td>2382</td>\n",
       "      <td>132</td>\n",
       "    </tr>\n",
       "  </tbody>\n",
       "</table>\n",
       "</div>"
      ],
      "text/plain": [
       "         created  canceled\n",
       "group_0     1527        82\n",
       "group_1     2382       132"
      ]
     },
     "execution_count": 60,
     "metadata": {},
     "output_type": "execute_result"
    }
   ],
   "source": [
    "chi_table"
   ]
  },
  {
   "cell_type": "code",
   "execution_count": 61,
   "metadata": {},
   "outputs": [
    {
     "data": {
      "text/plain": [
       "4123"
      ]
     },
     "execution_count": 61,
     "metadata": {},
     "output_type": "execute_result"
    }
   ],
   "source": [
    "chi_table.created.sum()+chi_table.canceled.sum() \n",
    "# кол-во наблюдений в таблице chi_table равно кол-ву уникальных order_id в ab_users_data, т. е. \n",
    "# ничего не потеряли в процессе"
   ]
  },
  {
   "cell_type": "code",
   "execution_count": 62,
   "metadata": {},
   "outputs": [
    {
     "data": {
      "text/plain": [
       "(0.021274207290295187,\n",
       " 0.8840344321879333,\n",
       " 1,\n",
       " array([[1525.48653893,   83.51346107],\n",
       "        [2383.51346107,  130.48653893]]))"
      ]
     },
     "execution_count": 62,
     "metadata": {},
     "output_type": "execute_result"
    }
   ],
   "source": [
    "chi2_contingency(chi_table)"
   ]
  },
  {
   "cell_type": "code",
   "execution_count": 63,
   "metadata": {},
   "outputs": [
    {
     "data": {
      "text/plain": [
       "0.0509633312616532"
      ]
     },
     "execution_count": 63,
     "metadata": {},
     "output_type": "execute_result"
    }
   ],
   "source": [
    "82/1609"
   ]
  },
  {
   "cell_type": "code",
   "execution_count": 64,
   "metadata": {},
   "outputs": [
    {
     "data": {
      "text/plain": [
       "0.05250596658711217"
      ]
     },
     "execution_count": 64,
     "metadata": {},
     "output_type": "execute_result"
    }
   ],
   "source": [
    "132/2514"
   ]
  },
  {
   "cell_type": "markdown",
   "metadata": {},
   "source": [
    "*Вывод 3: значение p-value = 0.884, что выше порога значимости 0.05, следовательно, оснований для отклонений нулевой гипотезы у нас нет. Новый алгоритм рекомендаций не повлиял существенным образом на количество отмененных заказов* "
   ]
  },
  {
   "cell_type": "markdown",
   "metadata": {},
   "source": [
    "**Итоговый вывод:** Внедрение новой системы рекомендаций не повлияло на соотношение количества сделанных и отмененных заказов в группах. При этом, в группе с новой системой рекомендаций средняя сумма чека увеличилась и эта разница является статистически значимой."
   ]
  }
 ],
 "metadata": {
  "kernelspec": {
   "display_name": "Python 3",
   "language": "python",
   "name": "python3"
  },
  "language_info": {
   "codemirror_mode": {
    "name": "ipython",
    "version": 3
   },
   "file_extension": ".py",
   "mimetype": "text/x-python",
   "name": "python",
   "nbconvert_exporter": "python",
   "pygments_lexer": "ipython3",
   "version": "3.7.3"
  }
 },
 "nbformat": 4,
 "nbformat_minor": 4
}
